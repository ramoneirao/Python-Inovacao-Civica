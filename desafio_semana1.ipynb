{
  "nbformat": 4,
  "nbformat_minor": 0,
  "metadata": {
    "colab": {
      "provenance": []
    },
    "kernelspec": {
      "name": "python3",
      "display_name": "Python 3"
    },
    "language_info": {
      "name": "python"
    }
  },
  "cells": [
    {
      "cell_type": "code",
      "source": [
        "import pandas as pd\n",
        "import glob as gb"
      ],
      "metadata": {
        "id": "pkDG7lyZnPR8"
      },
      "execution_count": null,
      "outputs": []
    },
    {
      "cell_type": "code",
      "source": [
        "arquivos = gb.glob('base-dados/*.csv')\n",
        "arquivos"
      ],
      "metadata": {
        "colab": {
          "base_uri": "https://localhost:8080/"
        },
        "id": "3XLL4IjCOA2j",
        "outputId": "2d86b617-c4ca-4aa3-d613-2044872edae0"
      },
      "execution_count": null,
      "outputs": [
        {
          "output_type": "execute_result",
          "data": {
            "text/plain": [
              "['base-dados/consulta_cand_2022_PA.csv',\n",
              " 'base-dados/consulta_cand_2022_AP.csv']"
            ]
          },
          "metadata": {},
          "execution_count": 2
        }
      ]
    },
    {
      "cell_type": "code",
      "source": [
        "lista_df = []\n",
        "\n",
        "for csv in arquivos:\n",
        "  df = pd.read_csv(csv, encoding = \"Latin 1\", sep = \";\", na_values= [\"#NULO#\", -1])\n",
        "  lista_df.append(df)\n",
        "\n",
        "lista_df[0]"
      ],
      "metadata": {
        "colab": {
          "base_uri": "https://localhost:8080/",
          "height": 1000
        },
        "id": "QKKUAj1SOm2o",
        "outputId": "31b4b51b-4c9a-4eb2-f7ae-467db8126a13"
      },
      "execution_count": null,
      "outputs": [
        {
          "output_type": "execute_result",
          "data": {
            "text/plain": [
              "      DT_GERACAO HH_GERACAO  ANO_ELEICAO  CD_TIPO_ELEICAO    NM_TIPO_ELEICAO  \\\n",
              "0     13/05/2023   19:32:48         2022                2  ELEIÇÃO ORDINÁRIA   \n",
              "1     13/05/2023   19:32:48         2022                2  ELEIÇÃO ORDINÁRIA   \n",
              "2     13/05/2023   19:32:48         2022                2  ELEIÇÃO ORDINÁRIA   \n",
              "3     13/05/2023   19:32:48         2022                2  ELEIÇÃO ORDINÁRIA   \n",
              "4     13/05/2023   19:32:48         2022                2  ELEIÇÃO ORDINÁRIA   \n",
              "...          ...        ...          ...              ...                ...   \n",
              "1038  13/05/2023   19:32:48         2022                2  ELEIÇÃO ORDINÁRIA   \n",
              "1039  13/05/2023   19:32:48         2022                2  ELEIÇÃO ORDINÁRIA   \n",
              "1040  13/05/2023   19:32:48         2022                2  ELEIÇÃO ORDINÁRIA   \n",
              "1041  13/05/2023   19:32:48         2022                2  ELEIÇÃO ORDINÁRIA   \n",
              "1042  13/05/2023   19:32:48         2022                2  ELEIÇÃO ORDINÁRIA   \n",
              "\n",
              "      NR_TURNO  CD_ELEICAO                      DS_ELEICAO  DT_ELEICAO  \\\n",
              "0            1         546  Eleições Gerais Estaduais 2022  02/10/2022   \n",
              "1            1         546  Eleições Gerais Estaduais 2022  02/10/2022   \n",
              "2            1         546  Eleições Gerais Estaduais 2022  02/10/2022   \n",
              "3            1         546  Eleições Gerais Estaduais 2022  02/10/2022   \n",
              "4            1         546  Eleições Gerais Estaduais 2022  02/10/2022   \n",
              "...        ...         ...                             ...         ...   \n",
              "1038         1         546  Eleições Gerais Estaduais 2022  02/10/2022   \n",
              "1039         1         546  Eleições Gerais Estaduais 2022  02/10/2022   \n",
              "1040         1         546  Eleições Gerais Estaduais 2022  02/10/2022   \n",
              "1041         1         546  Eleições Gerais Estaduais 2022  02/10/2022   \n",
              "1042         1         546  Eleições Gerais Estaduais 2022  02/10/2022   \n",
              "\n",
              "     TP_ABRANGENCIA  ...          NR_PROCESSO CD_SITUACAO_CANDIDATO_PLEITO  \\\n",
              "0          ESTADUAL  ...  6006408620226140000                          2.0   \n",
              "1          ESTADUAL  ...  6011397020226140000                          NaN   \n",
              "2          ESTADUAL  ...  6012245620226140000                          NaN   \n",
              "3          ESTADUAL  ...  6006754620226140000                          2.0   \n",
              "4          ESTADUAL  ...  6008876720226140000                          2.0   \n",
              "...             ...  ...                  ...                          ...   \n",
              "1038       ESTADUAL  ...  6002268820226140000                          2.0   \n",
              "1039       ESTADUAL  ...  6005637720226140000                          4.0   \n",
              "1040       ESTADUAL  ...  6004866820226140000                          2.0   \n",
              "1041       ESTADUAL  ...  6004312020226140000                          2.0   \n",
              "1042       ESTADUAL  ...  6009040620226140000                          2.0   \n",
              "\n",
              "     DS_SITUACAO_CANDIDATO_PLEITO  CD_SITUACAO_CANDIDATO_URNA  \\\n",
              "0                        DEFERIDO                         2.0   \n",
              "1                             NaN                         NaN   \n",
              "2                             NaN                         NaN   \n",
              "3                        DEFERIDO                         2.0   \n",
              "4                        DEFERIDO                         2.0   \n",
              "...                           ...                         ...   \n",
              "1038                     DEFERIDO                         2.0   \n",
              "1039       INDEFERIDO COM RECURSO                         4.0   \n",
              "1040                     DEFERIDO                         2.0   \n",
              "1041                     DEFERIDO                         2.0   \n",
              "1042                     DEFERIDO                         2.0   \n",
              "\n",
              "     DS_SITUACAO_CANDIDATO_URNA  ST_CANDIDATO_INSERIDO_URNA  \\\n",
              "0                      DEFERIDO                         SIM   \n",
              "1                           NaN                         NÃO   \n",
              "2                           NaN                         NÃO   \n",
              "3                      DEFERIDO                         SIM   \n",
              "4                      DEFERIDO                         SIM   \n",
              "...                         ...                         ...   \n",
              "1038                   DEFERIDO                         SIM   \n",
              "1039     INDEFERIDO COM RECURSO                         SIM   \n",
              "1040                   DEFERIDO                         SIM   \n",
              "1041                   DEFERIDO                         SIM   \n",
              "1042                   DEFERIDO                         SIM   \n",
              "\n",
              "      NM_TIPO_DESTINACAO_VOTOS CD_SITUACAO_CANDIDATO_TOT  \\\n",
              "0                       Válido                       2.0   \n",
              "1                          NaN                       NaN   \n",
              "2                          NaN                       NaN   \n",
              "3                       Válido                       2.0   \n",
              "4                       Válido                       2.0   \n",
              "...                        ...                       ...   \n",
              "1038                    Válido                       2.0   \n",
              "1039        Anulado sub judice                       4.0   \n",
              "1040                    Válido                       2.0   \n",
              "1041                    Válido                       2.0   \n",
              "1042                    Válido                       2.0   \n",
              "\n",
              "     DS_SITUACAO_CANDIDATO_TOT ST_PREST_CONTAS  \n",
              "0                     Deferido               S  \n",
              "1                          NaN               N  \n",
              "2                          NaN               N  \n",
              "3                     Deferido               S  \n",
              "4                     Deferido               S  \n",
              "...                        ...             ...  \n",
              "1038                  Deferido               S  \n",
              "1039    Indeferido com recurso               N  \n",
              "1040                  Deferido               S  \n",
              "1041                  Deferido               S  \n",
              "1042                  Deferido               S  \n",
              "\n",
              "[1043 rows x 71 columns]"
            ],
            "text/html": [
              "\n",
              "\n",
              "  <div id=\"df-a6456961-159e-4b2a-89dc-da2281fc3d9d\">\n",
              "    <div class=\"colab-df-container\">\n",
              "      <div>\n",
              "<style scoped>\n",
              "    .dataframe tbody tr th:only-of-type {\n",
              "        vertical-align: middle;\n",
              "    }\n",
              "\n",
              "    .dataframe tbody tr th {\n",
              "        vertical-align: top;\n",
              "    }\n",
              "\n",
              "    .dataframe thead th {\n",
              "        text-align: right;\n",
              "    }\n",
              "</style>\n",
              "<table border=\"1\" class=\"dataframe\">\n",
              "  <thead>\n",
              "    <tr style=\"text-align: right;\">\n",
              "      <th></th>\n",
              "      <th>DT_GERACAO</th>\n",
              "      <th>HH_GERACAO</th>\n",
              "      <th>ANO_ELEICAO</th>\n",
              "      <th>CD_TIPO_ELEICAO</th>\n",
              "      <th>NM_TIPO_ELEICAO</th>\n",
              "      <th>NR_TURNO</th>\n",
              "      <th>CD_ELEICAO</th>\n",
              "      <th>DS_ELEICAO</th>\n",
              "      <th>DT_ELEICAO</th>\n",
              "      <th>TP_ABRANGENCIA</th>\n",
              "      <th>...</th>\n",
              "      <th>NR_PROCESSO</th>\n",
              "      <th>CD_SITUACAO_CANDIDATO_PLEITO</th>\n",
              "      <th>DS_SITUACAO_CANDIDATO_PLEITO</th>\n",
              "      <th>CD_SITUACAO_CANDIDATO_URNA</th>\n",
              "      <th>DS_SITUACAO_CANDIDATO_URNA</th>\n",
              "      <th>ST_CANDIDATO_INSERIDO_URNA</th>\n",
              "      <th>NM_TIPO_DESTINACAO_VOTOS</th>\n",
              "      <th>CD_SITUACAO_CANDIDATO_TOT</th>\n",
              "      <th>DS_SITUACAO_CANDIDATO_TOT</th>\n",
              "      <th>ST_PREST_CONTAS</th>\n",
              "    </tr>\n",
              "  </thead>\n",
              "  <tbody>\n",
              "    <tr>\n",
              "      <th>0</th>\n",
              "      <td>13/05/2023</td>\n",
              "      <td>19:32:48</td>\n",
              "      <td>2022</td>\n",
              "      <td>2</td>\n",
              "      <td>ELEIÇÃO ORDINÁRIA</td>\n",
              "      <td>1</td>\n",
              "      <td>546</td>\n",
              "      <td>Eleições Gerais Estaduais 2022</td>\n",
              "      <td>02/10/2022</td>\n",
              "      <td>ESTADUAL</td>\n",
              "      <td>...</td>\n",
              "      <td>6006408620226140000</td>\n",
              "      <td>2.0</td>\n",
              "      <td>DEFERIDO</td>\n",
              "      <td>2.0</td>\n",
              "      <td>DEFERIDO</td>\n",
              "      <td>SIM</td>\n",
              "      <td>Válido</td>\n",
              "      <td>2.0</td>\n",
              "      <td>Deferido</td>\n",
              "      <td>S</td>\n",
              "    </tr>\n",
              "    <tr>\n",
              "      <th>1</th>\n",
              "      <td>13/05/2023</td>\n",
              "      <td>19:32:48</td>\n",
              "      <td>2022</td>\n",
              "      <td>2</td>\n",
              "      <td>ELEIÇÃO ORDINÁRIA</td>\n",
              "      <td>1</td>\n",
              "      <td>546</td>\n",
              "      <td>Eleições Gerais Estaduais 2022</td>\n",
              "      <td>02/10/2022</td>\n",
              "      <td>ESTADUAL</td>\n",
              "      <td>...</td>\n",
              "      <td>6011397020226140000</td>\n",
              "      <td>NaN</td>\n",
              "      <td>NaN</td>\n",
              "      <td>NaN</td>\n",
              "      <td>NaN</td>\n",
              "      <td>NÃO</td>\n",
              "      <td>NaN</td>\n",
              "      <td>NaN</td>\n",
              "      <td>NaN</td>\n",
              "      <td>N</td>\n",
              "    </tr>\n",
              "    <tr>\n",
              "      <th>2</th>\n",
              "      <td>13/05/2023</td>\n",
              "      <td>19:32:48</td>\n",
              "      <td>2022</td>\n",
              "      <td>2</td>\n",
              "      <td>ELEIÇÃO ORDINÁRIA</td>\n",
              "      <td>1</td>\n",
              "      <td>546</td>\n",
              "      <td>Eleições Gerais Estaduais 2022</td>\n",
              "      <td>02/10/2022</td>\n",
              "      <td>ESTADUAL</td>\n",
              "      <td>...</td>\n",
              "      <td>6012245620226140000</td>\n",
              "      <td>NaN</td>\n",
              "      <td>NaN</td>\n",
              "      <td>NaN</td>\n",
              "      <td>NaN</td>\n",
              "      <td>NÃO</td>\n",
              "      <td>NaN</td>\n",
              "      <td>NaN</td>\n",
              "      <td>NaN</td>\n",
              "      <td>N</td>\n",
              "    </tr>\n",
              "    <tr>\n",
              "      <th>3</th>\n",
              "      <td>13/05/2023</td>\n",
              "      <td>19:32:48</td>\n",
              "      <td>2022</td>\n",
              "      <td>2</td>\n",
              "      <td>ELEIÇÃO ORDINÁRIA</td>\n",
              "      <td>1</td>\n",
              "      <td>546</td>\n",
              "      <td>Eleições Gerais Estaduais 2022</td>\n",
              "      <td>02/10/2022</td>\n",
              "      <td>ESTADUAL</td>\n",
              "      <td>...</td>\n",
              "      <td>6006754620226140000</td>\n",
              "      <td>2.0</td>\n",
              "      <td>DEFERIDO</td>\n",
              "      <td>2.0</td>\n",
              "      <td>DEFERIDO</td>\n",
              "      <td>SIM</td>\n",
              "      <td>Válido</td>\n",
              "      <td>2.0</td>\n",
              "      <td>Deferido</td>\n",
              "      <td>S</td>\n",
              "    </tr>\n",
              "    <tr>\n",
              "      <th>4</th>\n",
              "      <td>13/05/2023</td>\n",
              "      <td>19:32:48</td>\n",
              "      <td>2022</td>\n",
              "      <td>2</td>\n",
              "      <td>ELEIÇÃO ORDINÁRIA</td>\n",
              "      <td>1</td>\n",
              "      <td>546</td>\n",
              "      <td>Eleições Gerais Estaduais 2022</td>\n",
              "      <td>02/10/2022</td>\n",
              "      <td>ESTADUAL</td>\n",
              "      <td>...</td>\n",
              "      <td>6008876720226140000</td>\n",
              "      <td>2.0</td>\n",
              "      <td>DEFERIDO</td>\n",
              "      <td>2.0</td>\n",
              "      <td>DEFERIDO</td>\n",
              "      <td>SIM</td>\n",
              "      <td>Válido</td>\n",
              "      <td>2.0</td>\n",
              "      <td>Deferido</td>\n",
              "      <td>S</td>\n",
              "    </tr>\n",
              "    <tr>\n",
              "      <th>...</th>\n",
              "      <td>...</td>\n",
              "      <td>...</td>\n",
              "      <td>...</td>\n",
              "      <td>...</td>\n",
              "      <td>...</td>\n",
              "      <td>...</td>\n",
              "      <td>...</td>\n",
              "      <td>...</td>\n",
              "      <td>...</td>\n",
              "      <td>...</td>\n",
              "      <td>...</td>\n",
              "      <td>...</td>\n",
              "      <td>...</td>\n",
              "      <td>...</td>\n",
              "      <td>...</td>\n",
              "      <td>...</td>\n",
              "      <td>...</td>\n",
              "      <td>...</td>\n",
              "      <td>...</td>\n",
              "      <td>...</td>\n",
              "      <td>...</td>\n",
              "    </tr>\n",
              "    <tr>\n",
              "      <th>1038</th>\n",
              "      <td>13/05/2023</td>\n",
              "      <td>19:32:48</td>\n",
              "      <td>2022</td>\n",
              "      <td>2</td>\n",
              "      <td>ELEIÇÃO ORDINÁRIA</td>\n",
              "      <td>1</td>\n",
              "      <td>546</td>\n",
              "      <td>Eleições Gerais Estaduais 2022</td>\n",
              "      <td>02/10/2022</td>\n",
              "      <td>ESTADUAL</td>\n",
              "      <td>...</td>\n",
              "      <td>6002268820226140000</td>\n",
              "      <td>2.0</td>\n",
              "      <td>DEFERIDO</td>\n",
              "      <td>2.0</td>\n",
              "      <td>DEFERIDO</td>\n",
              "      <td>SIM</td>\n",
              "      <td>Válido</td>\n",
              "      <td>2.0</td>\n",
              "      <td>Deferido</td>\n",
              "      <td>S</td>\n",
              "    </tr>\n",
              "    <tr>\n",
              "      <th>1039</th>\n",
              "      <td>13/05/2023</td>\n",
              "      <td>19:32:48</td>\n",
              "      <td>2022</td>\n",
              "      <td>2</td>\n",
              "      <td>ELEIÇÃO ORDINÁRIA</td>\n",
              "      <td>1</td>\n",
              "      <td>546</td>\n",
              "      <td>Eleições Gerais Estaduais 2022</td>\n",
              "      <td>02/10/2022</td>\n",
              "      <td>ESTADUAL</td>\n",
              "      <td>...</td>\n",
              "      <td>6005637720226140000</td>\n",
              "      <td>4.0</td>\n",
              "      <td>INDEFERIDO COM RECURSO</td>\n",
              "      <td>4.0</td>\n",
              "      <td>INDEFERIDO COM RECURSO</td>\n",
              "      <td>SIM</td>\n",
              "      <td>Anulado sub judice</td>\n",
              "      <td>4.0</td>\n",
              "      <td>Indeferido com recurso</td>\n",
              "      <td>N</td>\n",
              "    </tr>\n",
              "    <tr>\n",
              "      <th>1040</th>\n",
              "      <td>13/05/2023</td>\n",
              "      <td>19:32:48</td>\n",
              "      <td>2022</td>\n",
              "      <td>2</td>\n",
              "      <td>ELEIÇÃO ORDINÁRIA</td>\n",
              "      <td>1</td>\n",
              "      <td>546</td>\n",
              "      <td>Eleições Gerais Estaduais 2022</td>\n",
              "      <td>02/10/2022</td>\n",
              "      <td>ESTADUAL</td>\n",
              "      <td>...</td>\n",
              "      <td>6004866820226140000</td>\n",
              "      <td>2.0</td>\n",
              "      <td>DEFERIDO</td>\n",
              "      <td>2.0</td>\n",
              "      <td>DEFERIDO</td>\n",
              "      <td>SIM</td>\n",
              "      <td>Válido</td>\n",
              "      <td>2.0</td>\n",
              "      <td>Deferido</td>\n",
              "      <td>S</td>\n",
              "    </tr>\n",
              "    <tr>\n",
              "      <th>1041</th>\n",
              "      <td>13/05/2023</td>\n",
              "      <td>19:32:48</td>\n",
              "      <td>2022</td>\n",
              "      <td>2</td>\n",
              "      <td>ELEIÇÃO ORDINÁRIA</td>\n",
              "      <td>1</td>\n",
              "      <td>546</td>\n",
              "      <td>Eleições Gerais Estaduais 2022</td>\n",
              "      <td>02/10/2022</td>\n",
              "      <td>ESTADUAL</td>\n",
              "      <td>...</td>\n",
              "      <td>6004312020226140000</td>\n",
              "      <td>2.0</td>\n",
              "      <td>DEFERIDO</td>\n",
              "      <td>2.0</td>\n",
              "      <td>DEFERIDO</td>\n",
              "      <td>SIM</td>\n",
              "      <td>Válido</td>\n",
              "      <td>2.0</td>\n",
              "      <td>Deferido</td>\n",
              "      <td>S</td>\n",
              "    </tr>\n",
              "    <tr>\n",
              "      <th>1042</th>\n",
              "      <td>13/05/2023</td>\n",
              "      <td>19:32:48</td>\n",
              "      <td>2022</td>\n",
              "      <td>2</td>\n",
              "      <td>ELEIÇÃO ORDINÁRIA</td>\n",
              "      <td>1</td>\n",
              "      <td>546</td>\n",
              "      <td>Eleições Gerais Estaduais 2022</td>\n",
              "      <td>02/10/2022</td>\n",
              "      <td>ESTADUAL</td>\n",
              "      <td>...</td>\n",
              "      <td>6009040620226140000</td>\n",
              "      <td>2.0</td>\n",
              "      <td>DEFERIDO</td>\n",
              "      <td>2.0</td>\n",
              "      <td>DEFERIDO</td>\n",
              "      <td>SIM</td>\n",
              "      <td>Válido</td>\n",
              "      <td>2.0</td>\n",
              "      <td>Deferido</td>\n",
              "      <td>S</td>\n",
              "    </tr>\n",
              "  </tbody>\n",
              "</table>\n",
              "<p>1043 rows × 71 columns</p>\n",
              "</div>\n",
              "      <button class=\"colab-df-convert\" onclick=\"convertToInteractive('df-a6456961-159e-4b2a-89dc-da2281fc3d9d')\"\n",
              "              title=\"Convert this dataframe to an interactive table.\"\n",
              "              style=\"display:none;\">\n",
              "\n",
              "  <svg xmlns=\"http://www.w3.org/2000/svg\" height=\"24px\"viewBox=\"0 0 24 24\"\n",
              "       width=\"24px\">\n",
              "    <path d=\"M0 0h24v24H0V0z\" fill=\"none\"/>\n",
              "    <path d=\"M18.56 5.44l.94 2.06.94-2.06 2.06-.94-2.06-.94-.94-2.06-.94 2.06-2.06.94zm-11 1L8.5 8.5l.94-2.06 2.06-.94-2.06-.94L8.5 2.5l-.94 2.06-2.06.94zm10 10l.94 2.06.94-2.06 2.06-.94-2.06-.94-.94-2.06-.94 2.06-2.06.94z\"/><path d=\"M17.41 7.96l-1.37-1.37c-.4-.4-.92-.59-1.43-.59-.52 0-1.04.2-1.43.59L10.3 9.45l-7.72 7.72c-.78.78-.78 2.05 0 2.83L4 21.41c.39.39.9.59 1.41.59.51 0 1.02-.2 1.41-.59l7.78-7.78 2.81-2.81c.8-.78.8-2.07 0-2.86zM5.41 20L4 18.59l7.72-7.72 1.47 1.35L5.41 20z\"/>\n",
              "  </svg>\n",
              "      </button>\n",
              "\n",
              "\n",
              "\n",
              "    <div id=\"df-70165e03-288e-453b-8138-7c095f5a7e42\">\n",
              "      <button class=\"colab-df-quickchart\" onclick=\"quickchart('df-70165e03-288e-453b-8138-7c095f5a7e42')\"\n",
              "              title=\"Suggest charts.\"\n",
              "              style=\"display:none;\">\n",
              "\n",
              "<svg xmlns=\"http://www.w3.org/2000/svg\" height=\"24px\"viewBox=\"0 0 24 24\"\n",
              "     width=\"24px\">\n",
              "    <g>\n",
              "        <path d=\"M19 3H5c-1.1 0-2 .9-2 2v14c0 1.1.9 2 2 2h14c1.1 0 2-.9 2-2V5c0-1.1-.9-2-2-2zM9 17H7v-7h2v7zm4 0h-2V7h2v10zm4 0h-2v-4h2v4z\"/>\n",
              "    </g>\n",
              "</svg>\n",
              "      </button>\n",
              "    </div>\n",
              "\n",
              "<style>\n",
              "  .colab-df-quickchart {\n",
              "    background-color: #E8F0FE;\n",
              "    border: none;\n",
              "    border-radius: 50%;\n",
              "    cursor: pointer;\n",
              "    display: none;\n",
              "    fill: #1967D2;\n",
              "    height: 32px;\n",
              "    padding: 0 0 0 0;\n",
              "    width: 32px;\n",
              "  }\n",
              "\n",
              "  .colab-df-quickchart:hover {\n",
              "    background-color: #E2EBFA;\n",
              "    box-shadow: 0px 1px 2px rgba(60, 64, 67, 0.3), 0px 1px 3px 1px rgba(60, 64, 67, 0.15);\n",
              "    fill: #174EA6;\n",
              "  }\n",
              "\n",
              "  [theme=dark] .colab-df-quickchart {\n",
              "    background-color: #3B4455;\n",
              "    fill: #D2E3FC;\n",
              "  }\n",
              "\n",
              "  [theme=dark] .colab-df-quickchart:hover {\n",
              "    background-color: #434B5C;\n",
              "    box-shadow: 0px 1px 3px 1px rgba(0, 0, 0, 0.15);\n",
              "    filter: drop-shadow(0px 1px 2px rgba(0, 0, 0, 0.3));\n",
              "    fill: #FFFFFF;\n",
              "  }\n",
              "</style>\n",
              "\n",
              "    <script>\n",
              "      async function quickchart(key) {\n",
              "        const containerElement = document.querySelector('#' + key);\n",
              "        const charts = await google.colab.kernel.invokeFunction(\n",
              "            'suggestCharts', [key], {});\n",
              "      }\n",
              "    </script>\n",
              "\n",
              "      <script>\n",
              "\n",
              "function displayQuickchartButton(domScope) {\n",
              "  let quickchartButtonEl =\n",
              "    domScope.querySelector('#df-70165e03-288e-453b-8138-7c095f5a7e42 button.colab-df-quickchart');\n",
              "  quickchartButtonEl.style.display =\n",
              "    google.colab.kernel.accessAllowed ? 'block' : 'none';\n",
              "}\n",
              "\n",
              "        displayQuickchartButton(document);\n",
              "      </script>\n",
              "      <style>\n",
              "    .colab-df-container {\n",
              "      display:flex;\n",
              "      flex-wrap:wrap;\n",
              "      gap: 12px;\n",
              "    }\n",
              "\n",
              "    .colab-df-convert {\n",
              "      background-color: #E8F0FE;\n",
              "      border: none;\n",
              "      border-radius: 50%;\n",
              "      cursor: pointer;\n",
              "      display: none;\n",
              "      fill: #1967D2;\n",
              "      height: 32px;\n",
              "      padding: 0 0 0 0;\n",
              "      width: 32px;\n",
              "    }\n",
              "\n",
              "    .colab-df-convert:hover {\n",
              "      background-color: #E2EBFA;\n",
              "      box-shadow: 0px 1px 2px rgba(60, 64, 67, 0.3), 0px 1px 3px 1px rgba(60, 64, 67, 0.15);\n",
              "      fill: #174EA6;\n",
              "    }\n",
              "\n",
              "    [theme=dark] .colab-df-convert {\n",
              "      background-color: #3B4455;\n",
              "      fill: #D2E3FC;\n",
              "    }\n",
              "\n",
              "    [theme=dark] .colab-df-convert:hover {\n",
              "      background-color: #434B5C;\n",
              "      box-shadow: 0px 1px 3px 1px rgba(0, 0, 0, 0.15);\n",
              "      filter: drop-shadow(0px 1px 2px rgba(0, 0, 0, 0.3));\n",
              "      fill: #FFFFFF;\n",
              "    }\n",
              "  </style>\n",
              "\n",
              "      <script>\n",
              "        const buttonEl =\n",
              "          document.querySelector('#df-a6456961-159e-4b2a-89dc-da2281fc3d9d button.colab-df-convert');\n",
              "        buttonEl.style.display =\n",
              "          google.colab.kernel.accessAllowed ? 'block' : 'none';\n",
              "\n",
              "        async function convertToInteractive(key) {\n",
              "          const element = document.querySelector('#df-a6456961-159e-4b2a-89dc-da2281fc3d9d');\n",
              "          const dataTable =\n",
              "            await google.colab.kernel.invokeFunction('convertToInteractive',\n",
              "                                                     [key], {});\n",
              "          if (!dataTable) return;\n",
              "\n",
              "          const docLinkHtml = 'Like what you see? Visit the ' +\n",
              "            '<a target=\"_blank\" href=https://colab.research.google.com/notebooks/data_table.ipynb>data table notebook</a>'\n",
              "            + ' to learn more about interactive tables.';\n",
              "          element.innerHTML = '';\n",
              "          dataTable['output_type'] = 'display_data';\n",
              "          await google.colab.output.renderOutput(dataTable, element);\n",
              "          const docLink = document.createElement('div');\n",
              "          docLink.innerHTML = docLinkHtml;\n",
              "          element.appendChild(docLink);\n",
              "        }\n",
              "      </script>\n",
              "    </div>\n",
              "  </div>\n"
            ]
          },
          "metadata": {},
          "execution_count": 3
        }
      ]
    },
    {
      "cell_type": "code",
      "source": [
        "candidaturas = pd.concat(lista_df, axis = 0, ignore_index = True)\n",
        "candidaturas.shape"
      ],
      "metadata": {
        "colab": {
          "base_uri": "https://localhost:8080/"
        },
        "id": "aK5dcLvLPQpl",
        "outputId": "1c4411b5-ff7c-4db5-8ae9-96354acf7d9b"
      },
      "execution_count": null,
      "outputs": [
        {
          "output_type": "execute_result",
          "data": {
            "text/plain": [
              "(1600, 71)"
            ]
          },
          "metadata": {},
          "execution_count": 4
        }
      ]
    },
    {
      "cell_type": "markdown",
      "source": [
        "## Apresente 5 linhas aleatórias do dataframe"
      ],
      "metadata": {
        "id": "-Wqj3dfAQOPz"
      }
    },
    {
      "cell_type": "code",
      "source": [
        "# Apresente 5 linhas aleatórias do dataframe\n",
        "candidaturas.sample(5)"
      ],
      "metadata": {
        "colab": {
          "base_uri": "https://localhost:8080/",
          "height": 560
        },
        "id": "8rT3xbVhPhnR",
        "outputId": "872914d8-f1af-4e5a-cd43-93c3af8499ba"
      },
      "execution_count": null,
      "outputs": [
        {
          "output_type": "execute_result",
          "data": {
            "text/plain": [
              "      DT_GERACAO HH_GERACAO  ANO_ELEICAO  CD_TIPO_ELEICAO    NM_TIPO_ELEICAO  \\\n",
              "1456  13/05/2023   19:32:48         2022                2  ELEIÇÃO ORDINÁRIA   \n",
              "477   13/05/2023   19:32:48         2022                2  ELEIÇÃO ORDINÁRIA   \n",
              "1172  13/05/2023   19:32:48         2022                2  ELEIÇÃO ORDINÁRIA   \n",
              "859   13/05/2023   19:32:48         2022                2  ELEIÇÃO ORDINÁRIA   \n",
              "1130  13/05/2023   19:32:48         2022                2  ELEIÇÃO ORDINÁRIA   \n",
              "\n",
              "      NR_TURNO  CD_ELEICAO                      DS_ELEICAO  DT_ELEICAO  \\\n",
              "1456         1         546  Eleições Gerais Estaduais 2022  02/10/2022   \n",
              "477          1         546  Eleições Gerais Estaduais 2022  02/10/2022   \n",
              "1172         1         546  Eleições Gerais Estaduais 2022  02/10/2022   \n",
              "859          1         546  Eleições Gerais Estaduais 2022  02/10/2022   \n",
              "1130         1         546  Eleições Gerais Estaduais 2022  02/10/2022   \n",
              "\n",
              "     TP_ABRANGENCIA  ...          NR_PROCESSO CD_SITUACAO_CANDIDATO_PLEITO  \\\n",
              "1456       ESTADUAL  ...  6007448420226030000                          4.0   \n",
              "477        ESTADUAL  ...  6011171220226140000                          NaN   \n",
              "1172       ESTADUAL  ...  6004494720226030000                          2.0   \n",
              "859        ESTADUAL  ...  6010808220226140000                          2.0   \n",
              "1130       ESTADUAL  ...  6006642320226030000                          2.0   \n",
              "\n",
              "     DS_SITUACAO_CANDIDATO_PLEITO  CD_SITUACAO_CANDIDATO_URNA  \\\n",
              "1456       INDEFERIDO COM RECURSO                         4.0   \n",
              "477                           NaN                         NaN   \n",
              "1172                     DEFERIDO                         2.0   \n",
              "859                      DEFERIDO                         2.0   \n",
              "1130                     DEFERIDO                         2.0   \n",
              "\n",
              "     DS_SITUACAO_CANDIDATO_URNA  ST_CANDIDATO_INSERIDO_URNA  \\\n",
              "1456     INDEFERIDO COM RECURSO                         SIM   \n",
              "477                         NaN                         NÃO   \n",
              "1172                   DEFERIDO                         SIM   \n",
              "859                    DEFERIDO                         SIM   \n",
              "1130                   DEFERIDO                         SIM   \n",
              "\n",
              "      NM_TIPO_DESTINACAO_VOTOS CD_SITUACAO_CANDIDATO_TOT  \\\n",
              "1456                       NaN                       4.0   \n",
              "477                        NaN                       NaN   \n",
              "1172                    Válido                       2.0   \n",
              "859                     Válido                       2.0   \n",
              "1130                    Válido                       2.0   \n",
              "\n",
              "     DS_SITUACAO_CANDIDATO_TOT ST_PREST_CONTAS  \n",
              "1456    Indeferido com recurso               N  \n",
              "477                        NaN               N  \n",
              "1172                  Deferido               S  \n",
              "859                   Deferido               S  \n",
              "1130                  Deferido               S  \n",
              "\n",
              "[5 rows x 71 columns]"
            ],
            "text/html": [
              "\n",
              "\n",
              "  <div id=\"df-90577e42-bd98-42d9-a446-b07fb688ca8b\">\n",
              "    <div class=\"colab-df-container\">\n",
              "      <div>\n",
              "<style scoped>\n",
              "    .dataframe tbody tr th:only-of-type {\n",
              "        vertical-align: middle;\n",
              "    }\n",
              "\n",
              "    .dataframe tbody tr th {\n",
              "        vertical-align: top;\n",
              "    }\n",
              "\n",
              "    .dataframe thead th {\n",
              "        text-align: right;\n",
              "    }\n",
              "</style>\n",
              "<table border=\"1\" class=\"dataframe\">\n",
              "  <thead>\n",
              "    <tr style=\"text-align: right;\">\n",
              "      <th></th>\n",
              "      <th>DT_GERACAO</th>\n",
              "      <th>HH_GERACAO</th>\n",
              "      <th>ANO_ELEICAO</th>\n",
              "      <th>CD_TIPO_ELEICAO</th>\n",
              "      <th>NM_TIPO_ELEICAO</th>\n",
              "      <th>NR_TURNO</th>\n",
              "      <th>CD_ELEICAO</th>\n",
              "      <th>DS_ELEICAO</th>\n",
              "      <th>DT_ELEICAO</th>\n",
              "      <th>TP_ABRANGENCIA</th>\n",
              "      <th>...</th>\n",
              "      <th>NR_PROCESSO</th>\n",
              "      <th>CD_SITUACAO_CANDIDATO_PLEITO</th>\n",
              "      <th>DS_SITUACAO_CANDIDATO_PLEITO</th>\n",
              "      <th>CD_SITUACAO_CANDIDATO_URNA</th>\n",
              "      <th>DS_SITUACAO_CANDIDATO_URNA</th>\n",
              "      <th>ST_CANDIDATO_INSERIDO_URNA</th>\n",
              "      <th>NM_TIPO_DESTINACAO_VOTOS</th>\n",
              "      <th>CD_SITUACAO_CANDIDATO_TOT</th>\n",
              "      <th>DS_SITUACAO_CANDIDATO_TOT</th>\n",
              "      <th>ST_PREST_CONTAS</th>\n",
              "    </tr>\n",
              "  </thead>\n",
              "  <tbody>\n",
              "    <tr>\n",
              "      <th>1456</th>\n",
              "      <td>13/05/2023</td>\n",
              "      <td>19:32:48</td>\n",
              "      <td>2022</td>\n",
              "      <td>2</td>\n",
              "      <td>ELEIÇÃO ORDINÁRIA</td>\n",
              "      <td>1</td>\n",
              "      <td>546</td>\n",
              "      <td>Eleições Gerais Estaduais 2022</td>\n",
              "      <td>02/10/2022</td>\n",
              "      <td>ESTADUAL</td>\n",
              "      <td>...</td>\n",
              "      <td>6007448420226030000</td>\n",
              "      <td>4.0</td>\n",
              "      <td>INDEFERIDO COM RECURSO</td>\n",
              "      <td>4.0</td>\n",
              "      <td>INDEFERIDO COM RECURSO</td>\n",
              "      <td>SIM</td>\n",
              "      <td>NaN</td>\n",
              "      <td>4.0</td>\n",
              "      <td>Indeferido com recurso</td>\n",
              "      <td>N</td>\n",
              "    </tr>\n",
              "    <tr>\n",
              "      <th>477</th>\n",
              "      <td>13/05/2023</td>\n",
              "      <td>19:32:48</td>\n",
              "      <td>2022</td>\n",
              "      <td>2</td>\n",
              "      <td>ELEIÇÃO ORDINÁRIA</td>\n",
              "      <td>1</td>\n",
              "      <td>546</td>\n",
              "      <td>Eleições Gerais Estaduais 2022</td>\n",
              "      <td>02/10/2022</td>\n",
              "      <td>ESTADUAL</td>\n",
              "      <td>...</td>\n",
              "      <td>6011171220226140000</td>\n",
              "      <td>NaN</td>\n",
              "      <td>NaN</td>\n",
              "      <td>NaN</td>\n",
              "      <td>NaN</td>\n",
              "      <td>NÃO</td>\n",
              "      <td>NaN</td>\n",
              "      <td>NaN</td>\n",
              "      <td>NaN</td>\n",
              "      <td>N</td>\n",
              "    </tr>\n",
              "    <tr>\n",
              "      <th>1172</th>\n",
              "      <td>13/05/2023</td>\n",
              "      <td>19:32:48</td>\n",
              "      <td>2022</td>\n",
              "      <td>2</td>\n",
              "      <td>ELEIÇÃO ORDINÁRIA</td>\n",
              "      <td>1</td>\n",
              "      <td>546</td>\n",
              "      <td>Eleições Gerais Estaduais 2022</td>\n",
              "      <td>02/10/2022</td>\n",
              "      <td>ESTADUAL</td>\n",
              "      <td>...</td>\n",
              "      <td>6004494720226030000</td>\n",
              "      <td>2.0</td>\n",
              "      <td>DEFERIDO</td>\n",
              "      <td>2.0</td>\n",
              "      <td>DEFERIDO</td>\n",
              "      <td>SIM</td>\n",
              "      <td>Válido</td>\n",
              "      <td>2.0</td>\n",
              "      <td>Deferido</td>\n",
              "      <td>S</td>\n",
              "    </tr>\n",
              "    <tr>\n",
              "      <th>859</th>\n",
              "      <td>13/05/2023</td>\n",
              "      <td>19:32:48</td>\n",
              "      <td>2022</td>\n",
              "      <td>2</td>\n",
              "      <td>ELEIÇÃO ORDINÁRIA</td>\n",
              "      <td>1</td>\n",
              "      <td>546</td>\n",
              "      <td>Eleições Gerais Estaduais 2022</td>\n",
              "      <td>02/10/2022</td>\n",
              "      <td>ESTADUAL</td>\n",
              "      <td>...</td>\n",
              "      <td>6010808220226140000</td>\n",
              "      <td>2.0</td>\n",
              "      <td>DEFERIDO</td>\n",
              "      <td>2.0</td>\n",
              "      <td>DEFERIDO</td>\n",
              "      <td>SIM</td>\n",
              "      <td>Válido</td>\n",
              "      <td>2.0</td>\n",
              "      <td>Deferido</td>\n",
              "      <td>S</td>\n",
              "    </tr>\n",
              "    <tr>\n",
              "      <th>1130</th>\n",
              "      <td>13/05/2023</td>\n",
              "      <td>19:32:48</td>\n",
              "      <td>2022</td>\n",
              "      <td>2</td>\n",
              "      <td>ELEIÇÃO ORDINÁRIA</td>\n",
              "      <td>1</td>\n",
              "      <td>546</td>\n",
              "      <td>Eleições Gerais Estaduais 2022</td>\n",
              "      <td>02/10/2022</td>\n",
              "      <td>ESTADUAL</td>\n",
              "      <td>...</td>\n",
              "      <td>6006642320226030000</td>\n",
              "      <td>2.0</td>\n",
              "      <td>DEFERIDO</td>\n",
              "      <td>2.0</td>\n",
              "      <td>DEFERIDO</td>\n",
              "      <td>SIM</td>\n",
              "      <td>Válido</td>\n",
              "      <td>2.0</td>\n",
              "      <td>Deferido</td>\n",
              "      <td>S</td>\n",
              "    </tr>\n",
              "  </tbody>\n",
              "</table>\n",
              "<p>5 rows × 71 columns</p>\n",
              "</div>\n",
              "      <button class=\"colab-df-convert\" onclick=\"convertToInteractive('df-90577e42-bd98-42d9-a446-b07fb688ca8b')\"\n",
              "              title=\"Convert this dataframe to an interactive table.\"\n",
              "              style=\"display:none;\">\n",
              "\n",
              "  <svg xmlns=\"http://www.w3.org/2000/svg\" height=\"24px\"viewBox=\"0 0 24 24\"\n",
              "       width=\"24px\">\n",
              "    <path d=\"M0 0h24v24H0V0z\" fill=\"none\"/>\n",
              "    <path d=\"M18.56 5.44l.94 2.06.94-2.06 2.06-.94-2.06-.94-.94-2.06-.94 2.06-2.06.94zm-11 1L8.5 8.5l.94-2.06 2.06-.94-2.06-.94L8.5 2.5l-.94 2.06-2.06.94zm10 10l.94 2.06.94-2.06 2.06-.94-2.06-.94-.94-2.06-.94 2.06-2.06.94z\"/><path d=\"M17.41 7.96l-1.37-1.37c-.4-.4-.92-.59-1.43-.59-.52 0-1.04.2-1.43.59L10.3 9.45l-7.72 7.72c-.78.78-.78 2.05 0 2.83L4 21.41c.39.39.9.59 1.41.59.51 0 1.02-.2 1.41-.59l7.78-7.78 2.81-2.81c.8-.78.8-2.07 0-2.86zM5.41 20L4 18.59l7.72-7.72 1.47 1.35L5.41 20z\"/>\n",
              "  </svg>\n",
              "      </button>\n",
              "\n",
              "\n",
              "\n",
              "    <div id=\"df-070c432f-f3aa-456e-8e21-d2d5b4874e5f\">\n",
              "      <button class=\"colab-df-quickchart\" onclick=\"quickchart('df-070c432f-f3aa-456e-8e21-d2d5b4874e5f')\"\n",
              "              title=\"Suggest charts.\"\n",
              "              style=\"display:none;\">\n",
              "\n",
              "<svg xmlns=\"http://www.w3.org/2000/svg\" height=\"24px\"viewBox=\"0 0 24 24\"\n",
              "     width=\"24px\">\n",
              "    <g>\n",
              "        <path d=\"M19 3H5c-1.1 0-2 .9-2 2v14c0 1.1.9 2 2 2h14c1.1 0 2-.9 2-2V5c0-1.1-.9-2-2-2zM9 17H7v-7h2v7zm4 0h-2V7h2v10zm4 0h-2v-4h2v4z\"/>\n",
              "    </g>\n",
              "</svg>\n",
              "      </button>\n",
              "    </div>\n",
              "\n",
              "<style>\n",
              "  .colab-df-quickchart {\n",
              "    background-color: #E8F0FE;\n",
              "    border: none;\n",
              "    border-radius: 50%;\n",
              "    cursor: pointer;\n",
              "    display: none;\n",
              "    fill: #1967D2;\n",
              "    height: 32px;\n",
              "    padding: 0 0 0 0;\n",
              "    width: 32px;\n",
              "  }\n",
              "\n",
              "  .colab-df-quickchart:hover {\n",
              "    background-color: #E2EBFA;\n",
              "    box-shadow: 0px 1px 2px rgba(60, 64, 67, 0.3), 0px 1px 3px 1px rgba(60, 64, 67, 0.15);\n",
              "    fill: #174EA6;\n",
              "  }\n",
              "\n",
              "  [theme=dark] .colab-df-quickchart {\n",
              "    background-color: #3B4455;\n",
              "    fill: #D2E3FC;\n",
              "  }\n",
              "\n",
              "  [theme=dark] .colab-df-quickchart:hover {\n",
              "    background-color: #434B5C;\n",
              "    box-shadow: 0px 1px 3px 1px rgba(0, 0, 0, 0.15);\n",
              "    filter: drop-shadow(0px 1px 2px rgba(0, 0, 0, 0.3));\n",
              "    fill: #FFFFFF;\n",
              "  }\n",
              "</style>\n",
              "\n",
              "    <script>\n",
              "      async function quickchart(key) {\n",
              "        const containerElement = document.querySelector('#' + key);\n",
              "        const charts = await google.colab.kernel.invokeFunction(\n",
              "            'suggestCharts', [key], {});\n",
              "      }\n",
              "    </script>\n",
              "\n",
              "      <script>\n",
              "\n",
              "function displayQuickchartButton(domScope) {\n",
              "  let quickchartButtonEl =\n",
              "    domScope.querySelector('#df-070c432f-f3aa-456e-8e21-d2d5b4874e5f button.colab-df-quickchart');\n",
              "  quickchartButtonEl.style.display =\n",
              "    google.colab.kernel.accessAllowed ? 'block' : 'none';\n",
              "}\n",
              "\n",
              "        displayQuickchartButton(document);\n",
              "      </script>\n",
              "      <style>\n",
              "    .colab-df-container {\n",
              "      display:flex;\n",
              "      flex-wrap:wrap;\n",
              "      gap: 12px;\n",
              "    }\n",
              "\n",
              "    .colab-df-convert {\n",
              "      background-color: #E8F0FE;\n",
              "      border: none;\n",
              "      border-radius: 50%;\n",
              "      cursor: pointer;\n",
              "      display: none;\n",
              "      fill: #1967D2;\n",
              "      height: 32px;\n",
              "      padding: 0 0 0 0;\n",
              "      width: 32px;\n",
              "    }\n",
              "\n",
              "    .colab-df-convert:hover {\n",
              "      background-color: #E2EBFA;\n",
              "      box-shadow: 0px 1px 2px rgba(60, 64, 67, 0.3), 0px 1px 3px 1px rgba(60, 64, 67, 0.15);\n",
              "      fill: #174EA6;\n",
              "    }\n",
              "\n",
              "    [theme=dark] .colab-df-convert {\n",
              "      background-color: #3B4455;\n",
              "      fill: #D2E3FC;\n",
              "    }\n",
              "\n",
              "    [theme=dark] .colab-df-convert:hover {\n",
              "      background-color: #434B5C;\n",
              "      box-shadow: 0px 1px 3px 1px rgba(0, 0, 0, 0.15);\n",
              "      filter: drop-shadow(0px 1px 2px rgba(0, 0, 0, 0.3));\n",
              "      fill: #FFFFFF;\n",
              "    }\n",
              "  </style>\n",
              "\n",
              "      <script>\n",
              "        const buttonEl =\n",
              "          document.querySelector('#df-90577e42-bd98-42d9-a446-b07fb688ca8b button.colab-df-convert');\n",
              "        buttonEl.style.display =\n",
              "          google.colab.kernel.accessAllowed ? 'block' : 'none';\n",
              "\n",
              "        async function convertToInteractive(key) {\n",
              "          const element = document.querySelector('#df-90577e42-bd98-42d9-a446-b07fb688ca8b');\n",
              "          const dataTable =\n",
              "            await google.colab.kernel.invokeFunction('convertToInteractive',\n",
              "                                                     [key], {});\n",
              "          if (!dataTable) return;\n",
              "\n",
              "          const docLinkHtml = 'Like what you see? Visit the ' +\n",
              "            '<a target=\"_blank\" href=https://colab.research.google.com/notebooks/data_table.ipynb>data table notebook</a>'\n",
              "            + ' to learn more about interactive tables.';\n",
              "          element.innerHTML = '';\n",
              "          dataTable['output_type'] = 'display_data';\n",
              "          await google.colab.output.renderOutput(dataTable, element);\n",
              "          const docLink = document.createElement('div');\n",
              "          docLink.innerHTML = docLinkHtml;\n",
              "          element.appendChild(docLink);\n",
              "        }\n",
              "      </script>\n",
              "    </div>\n",
              "  </div>\n"
            ]
          },
          "metadata": {},
          "execution_count": 5
        }
      ]
    },
    {
      "cell_type": "markdown",
      "source": [
        "## Qunatas candidaturas estão em situação de reeleição?\n"
      ],
      "metadata": {
        "id": "lZ8xs_E6QWBo"
      }
    },
    {
      "cell_type": "code",
      "source": [
        "candidaturas.info()"
      ],
      "metadata": {
        "colab": {
          "base_uri": "https://localhost:8080/"
        },
        "id": "6lqzmyfTPl38",
        "outputId": "f707a915-1254-4342-afcb-158d6d211fcb"
      },
      "execution_count": null,
      "outputs": [
        {
          "output_type": "stream",
          "name": "stdout",
          "text": [
            "<class 'pandas.core.frame.DataFrame'>\n",
            "RangeIndex: 1600 entries, 0 to 1599\n",
            "Data columns (total 71 columns):\n",
            " #   Column                         Non-Null Count  Dtype  \n",
            "---  ------                         --------------  -----  \n",
            " 0   DT_GERACAO                     1600 non-null   object \n",
            " 1   HH_GERACAO                     1600 non-null   object \n",
            " 2   ANO_ELEICAO                    1600 non-null   int64  \n",
            " 3   CD_TIPO_ELEICAO                1600 non-null   int64  \n",
            " 4   NM_TIPO_ELEICAO                1600 non-null   object \n",
            " 5   NR_TURNO                       1600 non-null   int64  \n",
            " 6   CD_ELEICAO                     1600 non-null   int64  \n",
            " 7   DS_ELEICAO                     1600 non-null   object \n",
            " 8   DT_ELEICAO                     1600 non-null   object \n",
            " 9   TP_ABRANGENCIA                 1600 non-null   object \n",
            " 10  SG_UF                          1600 non-null   object \n",
            " 11  SG_UE                          1600 non-null   object \n",
            " 12  NM_UE                          1600 non-null   object \n",
            " 13  CD_CARGO                       1600 non-null   int64  \n",
            " 14  DS_CARGO                       1600 non-null   object \n",
            " 15  SQ_CANDIDATO                   1600 non-null   int64  \n",
            " 16  NR_CANDIDATO                   1600 non-null   int64  \n",
            " 17  NM_CANDIDATO                   1600 non-null   object \n",
            " 18  NM_URNA_CANDIDATO              1600 non-null   object \n",
            " 19  NM_SOCIAL_CANDIDATO            5 non-null      object \n",
            " 20  NR_CPF_CANDIDATO               1600 non-null   int64  \n",
            " 21  NM_EMAIL                       1600 non-null   object \n",
            " 22  CD_SITUACAO_CANDIDATURA        1600 non-null   int64  \n",
            " 23  DS_SITUACAO_CANDIDATURA        1600 non-null   object \n",
            " 24  CD_DETALHE_SITUACAO_CAND       1600 non-null   int64  \n",
            " 25  DS_DETALHE_SITUACAO_CAND       1600 non-null   object \n",
            " 26  TP_AGREMIACAO                  1600 non-null   object \n",
            " 27  NR_PARTIDO                     1600 non-null   int64  \n",
            " 28  SG_PARTIDO                     1600 non-null   object \n",
            " 29  NM_PARTIDO                     1600 non-null   object \n",
            " 30  NR_FEDERACAO                   269 non-null    float64\n",
            " 31  NM_FEDERACAO                   269 non-null    object \n",
            " 32  SG_FEDERACAO                   269 non-null    object \n",
            " 33  DS_COMPOSICAO_FEDERACAO        269 non-null    object \n",
            " 34  SQ_COLIGACAO                   1600 non-null   int64  \n",
            " 35  NM_COLIGACAO                   1600 non-null   object \n",
            " 36  DS_COMPOSICAO_COLIGACAO        1600 non-null   object \n",
            " 37  CD_NACIONALIDADE               1600 non-null   int64  \n",
            " 38  DS_NACIONALIDADE               1600 non-null   object \n",
            " 39  SG_UF_NASCIMENTO               1600 non-null   object \n",
            " 40  CD_MUNICIPIO_NASCIMENTO        1600 non-null   int64  \n",
            " 41  NM_MUNICIPIO_NASCIMENTO        1600 non-null   object \n",
            " 42  DT_NASCIMENTO                  1599 non-null   object \n",
            " 43  NR_IDADE_DATA_POSSE            1599 non-null   float64\n",
            " 44  NR_TITULO_ELEITORAL_CANDIDATO  1600 non-null   int64  \n",
            " 45  CD_GENERO                      1600 non-null   int64  \n",
            " 46  DS_GENERO                      1600 non-null   object \n",
            " 47  CD_GRAU_INSTRUCAO              1600 non-null   int64  \n",
            " 48  DS_GRAU_INSTRUCAO              1600 non-null   object \n",
            " 49  CD_ESTADO_CIVIL                1600 non-null   int64  \n",
            " 50  DS_ESTADO_CIVIL                1600 non-null   object \n",
            " 51  CD_COR_RACA                    1600 non-null   int64  \n",
            " 52  DS_COR_RACA                    1600 non-null   object \n",
            " 53  CD_OCUPACAO                    1600 non-null   int64  \n",
            " 54  DS_OCUPACAO                    1600 non-null   object \n",
            " 55  VR_DESPESA_MAX_CAMPANHA        1529 non-null   float64\n",
            " 56  CD_SIT_TOT_TURNO               1476 non-null   float64\n",
            " 57  DS_SIT_TOT_TURNO               1476 non-null   object \n",
            " 58  ST_REELEICAO                   1600 non-null   object \n",
            " 59  ST_DECLARAR_BENS               1600 non-null   object \n",
            " 60  NR_PROTOCOLO_CANDIDATURA       0 non-null      float64\n",
            " 61  NR_PROCESSO                    1600 non-null   int64  \n",
            " 62  CD_SITUACAO_CANDIDATO_PLEITO   1476 non-null   float64\n",
            " 63  DS_SITUACAO_CANDIDATO_PLEITO   1476 non-null   object \n",
            " 64  CD_SITUACAO_CANDIDATO_URNA     1476 non-null   float64\n",
            " 65  DS_SITUACAO_CANDIDATO_URNA     1476 non-null   object \n",
            " 66  ST_CANDIDATO_INSERIDO_URNA     1600 non-null   object \n",
            " 67  NM_TIPO_DESTINACAO_VOTOS       1423 non-null   object \n",
            " 68  CD_SITUACAO_CANDIDATO_TOT      1476 non-null   float64\n",
            " 69  DS_SITUACAO_CANDIDATO_TOT      1476 non-null   object \n",
            " 70  ST_PREST_CONTAS                1600 non-null   object \n",
            "dtypes: float64(8), int64(21), object(42)\n",
            "memory usage: 887.6+ KB\n"
          ]
        }
      ]
    },
    {
      "cell_type": "code",
      "source": [
        "candidaturas[\"ST_REELEICAO\"].unique()"
      ],
      "metadata": {
        "colab": {
          "base_uri": "https://localhost:8080/"
        },
        "id": "SEDIsxPfP6Gn",
        "outputId": "5fd63064-cd3d-4e23-d533-0d06caf74d44"
      },
      "execution_count": null,
      "outputs": [
        {
          "output_type": "execute_result",
          "data": {
            "text/plain": [
              "array(['N', 'S', 'Não divulgável'], dtype=object)"
            ]
          },
          "metadata": {},
          "execution_count": 8
        }
      ]
    },
    {
      "cell_type": "code",
      "source": [
        "candidaturas[\"ST_REELEICAO\"].value_counts()"
      ],
      "metadata": {
        "colab": {
          "base_uri": "https://localhost:8080/"
        },
        "id": "jACh5b5_Qt8P",
        "outputId": "8d71d91f-6bea-4bc9-8e3d-8f95bcdc1ef0"
      },
      "execution_count": null,
      "outputs": [
        {
          "output_type": "execute_result",
          "data": {
            "text/plain": [
              "N                 1518\n",
              "S                   81\n",
              "Não divulgável       1\n",
              "Name: ST_REELEICAO, dtype: int64"
            ]
          },
          "metadata": {},
          "execution_count": 7
        }
      ]
    },
    {
      "cell_type": "markdown",
      "source": [
        "## Quais cargos serão preenchidos nesse pleito?\n"
      ],
      "metadata": {
        "id": "oipQUoOzQ4JZ"
      }
    },
    {
      "cell_type": "code",
      "source": [
        "candidaturas[\"DS_CARGO\"].unique()"
      ],
      "metadata": {
        "colab": {
          "base_uri": "https://localhost:8080/"
        },
        "id": "Gmpa74H1Q3TG",
        "outputId": "5afb49d9-9ddb-48ec-f9f1-1f262cffa893"
      },
      "execution_count": null,
      "outputs": [
        {
          "output_type": "execute_result",
          "data": {
            "text/plain": [
              "array(['DEPUTADO ESTADUAL', 'VICE-GOVERNADOR', 'DEPUTADO FEDERAL',\n",
              "       '2º SUPLENTE', '1º SUPLENTE', 'GOVERNADOR', 'SENADOR'],\n",
              "      dtype=object)"
            ]
          },
          "metadata": {},
          "execution_count": 11
        }
      ]
    },
    {
      "cell_type": "markdown",
      "source": [
        "## Liste todas as ocupações declaradas pelas condidaturas a Câmara de Deputados Federal"
      ],
      "metadata": {
        "id": "jdGynli6RNPl"
      }
    },
    {
      "cell_type": "code",
      "source": [
        "candDepFed = candidaturas[candidaturas[\"DS_CARGO\"] == \"DEPUTADO FEDERAL\"].copy()"
      ],
      "metadata": {
        "id": "SfxT4X8RRb9p"
      },
      "execution_count": null,
      "outputs": []
    },
    {
      "cell_type": "code",
      "source": [
        "candDepFed[\"DS_CARGO\"].unique()"
      ],
      "metadata": {
        "colab": {
          "base_uri": "https://localhost:8080/"
        },
        "id": "YWGtmX43RChX",
        "outputId": "82b61944-847c-43a1-caa6-f1f9374a1cd0"
      },
      "execution_count": null,
      "outputs": [
        {
          "output_type": "execute_result",
          "data": {
            "text/plain": [
              "array(['DEPUTADO FEDERAL'], dtype=object)"
            ]
          },
          "metadata": {},
          "execution_count": 13
        }
      ]
    },
    {
      "cell_type": "code",
      "source": [
        "candDepFed[\"DS_OCUPACAO\"].unique()"
      ],
      "metadata": {
        "colab": {
          "base_uri": "https://localhost:8080/"
        },
        "id": "y96hPKbRR4HA",
        "outputId": "105b804a-b508-485c-e30c-848b4d2bf1ac"
      },
      "execution_count": null,
      "outputs": [
        {
          "output_type": "execute_result",
          "data": {
            "text/plain": [
              "array(['ADVOGADO', 'ADMINISTRADOR', 'JORNALISTA E REDATOR',\n",
              "       'SENADOR, DEPUTADO E VEREADOR', 'DEPUTADO', 'OUTROS',\n",
              "       'OCUPANTE DE CARGO EM COMISSÃO', 'POLICIAL MILITAR',\n",
              "       'VENDEDOR DE COMÉRCIO VAREJISTA E ATACADISTA', 'AGRICULTOR',\n",
              "       'APOSENTADO (EXCETO SERVIDOR PÚBLICO)', 'EMPRESÁRIO',\n",
              "       'PROFESSOR DE ENSINO MÉDIO',\n",
              "       'TÉCNICO DE ENFERMAGEM E ASSEMELHADOS (EXCETO ENFERMEIRO)',\n",
              "       'PECUARISTA', 'MÉDICO', 'NUTRICIONISTA E ASSEMELHADOS', 'VEREADOR',\n",
              "       'VETERINÁRIO', 'DIRETOR DE EMPRESAS', 'ENGENHEIRO', 'DONA DE CASA',\n",
              "       'CORRETOR DE IMÓVEIS, SEGUROS, TÍTULOS E VALORES',\n",
              "       'SERVIDOR PÚBLICO FEDERAL', 'ECONOMISTA',\n",
              "       'VENDEDOR PRACISTA, REPRESENTANTE, CAIXEIRO-VIAJANTE E ASSEMELHADOS',\n",
              "       'SACERDOTE OU MEMBRO DE ORDEM OU SEITA RELIGIOSA', 'ENFERMEIRO',\n",
              "       'COMERCIANTE',\n",
              "       'PORTEIRO DE EDIFÍCIO, ASCENSORISTA, GARAGISTA E ZELADOR',\n",
              "       'PROFESSOR DE ENSINO FUNDAMENTAL', 'CONTADOR', 'MOTOBOY',\n",
              "       'SERVIDOR PÚBLICO CIVIL APOSENTADO',\n",
              "       'PRODUTOR DE ESPETÁCULOS PÚBLICOS', 'BIÓLOGO',\n",
              "       'PROFESSOR DE ENSINO SUPERIOR', 'MILITAR REFORMADO',\n",
              "       'TÉCNICO EM INFORMÁTICA', 'POLICIAL CIVIL', 'FONOAUDIÓLOGO',\n",
              "       'PEDAGOGO', 'BANCÁRIO E ECONOMIÁRIO', 'SERVIDOR PÚBLICO MUNICIPAL',\n",
              "       'MEMBRO DAS FORÇAS ARMADAS',\n",
              "       'LOCUTOR E COMENTARISTA DE RÁDIO E TELEVISÃO E RADIALISTA',\n",
              "       'ASSISTENTE SOCIAL', 'ODONTÓLOGO', 'AGENTE ADMINISTRATIVO',\n",
              "       'SERVIDOR PÚBLICO ESTADUAL', 'SOCIÓLOGO',\n",
              "       'ESTUDANTE, BOLSISTA, ESTAGIÁRIO E ASSEMELHADOS',\n",
              "       'BOMBEIRO MILITAR', 'ZOOTECNISTA',\n",
              "       'ATLETA PROFISSIONAL E TÉCNICO EM DESPORTOS',\n",
              "       'PROFESSOR E INSTRUTOR DE FORMAÇÃO PROFISSIONAL',\n",
              "       'SECRETÁRIO E DATILÓGRAFO',\n",
              "       'AUXILIAR DE ESCRITÓRIO E ASSEMELHADOS', 'MOTORISTA PARTICULAR',\n",
              "       'GARIMPEIRO', 'ESTETICISTA', 'VIGILANTE',\n",
              "       'CARPINTEIRO, MARCENEIRO E ASSEMELHADOS',\n",
              "       'SUPERVISOR, INSPETOR E AGENTE DE COMPRAS E VENDAS', 'COMERCIÁRIO',\n",
              "       'ANALISTA DE SISTEMAS',\n",
              "       'TÉCNICO DE OBRAS CIVIS, ESTRADAS, SANEAMENTO E ASSEMELHADOS',\n",
              "       'CANTOR E COMPOSITOR', 'FISIOTERAPEUTA E TERAPEUTA OCUPACIONAL',\n",
              "       'PESCADOR', 'RECEPCIONISTA', 'ARQUITETO', 'MASSAGISTA'],\n",
              "      dtype=object)"
            ]
          },
          "metadata": {},
          "execution_count": 14
        }
      ]
    },
    {
      "cell_type": "code",
      "source": [
        "candDepFed[\"DS_OCUPACAO\"].value_counts(dropna = True)"
      ],
      "metadata": {
        "colab": {
          "base_uri": "https://localhost:8080/"
        },
        "id": "soN_h_YGR_hU",
        "outputId": "96d14e47-dbd4-4bf3-d49d-6563165678f9"
      },
      "execution_count": null,
      "outputs": [
        {
          "output_type": "execute_result",
          "data": {
            "text/plain": [
              "OUTROS                                             72\n",
              "EMPRESÁRIO                                         62\n",
              "DEPUTADO                                           30\n",
              "POLICIAL MILITAR                                   28\n",
              "ADVOGADO                                           27\n",
              "                                                   ..\n",
              "CONTADOR                                            1\n",
              "SACERDOTE OU MEMBRO DE ORDEM OU SEITA RELIGIOSA     1\n",
              "DIRETOR DE EMPRESAS                                 1\n",
              "VETERINÁRIO                                         1\n",
              "MASSAGISTA                                          1\n",
              "Name: DS_OCUPACAO, Length: 73, dtype: int64"
            ]
          },
          "metadata": {},
          "execution_count": 16
        }
      ]
    },
    {
      "cell_type": "markdown",
      "source": [
        "## Quantos anos tería a pessoa vandidata mais velha do ato da posse?"
      ],
      "metadata": {
        "id": "ciEMmh9MSTgD"
      }
    },
    {
      "cell_type": "code",
      "source": [
        "candidaturas[\"NR_IDADE_DATA_POSSE\"].max()"
      ],
      "metadata": {
        "colab": {
          "base_uri": "https://localhost:8080/"
        },
        "id": "pNnIS50BSI7O",
        "outputId": "cacf8a63-f728-4ba3-becf-284dcc3ab4ea"
      },
      "execution_count": null,
      "outputs": [
        {
          "output_type": "execute_result",
          "data": {
            "text/plain": [
              "81.0"
            ]
          },
          "metadata": {},
          "execution_count": 17
        }
      ]
    },
    {
      "cell_type": "markdown",
      "source": [
        "## Quantos anos tería a pessoa vandidata mais jovem do ato da posse?"
      ],
      "metadata": {
        "id": "2TPS0Iz6Sp2Z"
      }
    },
    {
      "cell_type": "code",
      "source": [
        "candidaturas[\"NR_IDADE_DATA_POSSE\"].min()"
      ],
      "metadata": {
        "colab": {
          "base_uri": "https://localhost:8080/"
        },
        "id": "zkuBGNK_St-j",
        "outputId": "4e0f1523-13be-4084-a73c-5f7a38a62552"
      },
      "execution_count": null,
      "outputs": [
        {
          "output_type": "execute_result",
          "data": {
            "text/plain": [
              "19.0"
            ]
          },
          "metadata": {},
          "execution_count": 18
        }
      ]
    },
    {
      "cell_type": "markdown",
      "source": [
        "## Qual o nome da pessoa mais velha?\n"
      ],
      "metadata": {
        "id": "XK-GEjeFSzQy"
      }
    },
    {
      "cell_type": "code",
      "source": [
        "candidata_mais_velha = candidaturas[candidaturas['NR_IDADE_DATA_POSSE'] == 81]['NM_CANDIDATO']\n",
        "candidata_mais_velha"
      ],
      "metadata": {
        "colab": {
          "base_uri": "https://localhost:8080/"
        },
        "id": "uGgT_kVlS2y7",
        "outputId": "73666e43-7875-4c21-8e82-751d7c5ba955"
      },
      "execution_count": null,
      "outputs": [
        {
          "output_type": "execute_result",
          "data": {
            "text/plain": [
              "49    MARIA DE LOURDES PEREIRA DE FARIAS\n",
              "Name: NM_CANDIDATO, dtype: object"
            ]
          },
          "metadata": {},
          "execution_count": 19
        }
      ]
    },
    {
      "cell_type": "markdown",
      "source": [
        "## Qual o nome da pessoa mais jovem?"
      ],
      "metadata": {
        "id": "I-g1CUBdTEIu"
      }
    },
    {
      "cell_type": "code",
      "source": [
        "candidata_mais_jovem = candidaturas[candidaturas['NR_IDADE_DATA_POSSE'] == 19]['NM_CANDIDATO']\n",
        "candidata_mais_jovem"
      ],
      "metadata": {
        "colab": {
          "base_uri": "https://localhost:8080/"
        },
        "id": "HzfBkYr7TDuv",
        "outputId": "424546e6-ddc6-4033-e955-1456330b7f84"
      },
      "execution_count": null,
      "outputs": [
        {
          "output_type": "execute_result",
          "data": {
            "text/plain": [
              "462    NATALIA CRISTINA MAIA COSTA\n",
              "Name: NM_CANDIDATO, dtype: object"
            ]
          },
          "metadata": {},
          "execution_count": 20
        }
      ]
    },
    {
      "cell_type": "markdown",
      "source": [
        "##Quantas candidaturas existem para \"Deputado Federal\" em seu estado?\n"
      ],
      "metadata": {
        "id": "lHttcne9TQjs"
      }
    },
    {
      "cell_type": "code",
      "source": [
        "candidaturas_pa = candidaturas[(candidaturas['SG_UF'] == 'PA') & (candidaturas[\"DS_CARGO\"] == \"DEPUTADO FEDERAL\")]"
      ],
      "metadata": {
        "id": "W0LHBtdGTZ55"
      },
      "execution_count": null,
      "outputs": []
    },
    {
      "cell_type": "code",
      "source": [
        "candidaturas_pa = candidaturas_pa.shape[0]"
      ],
      "metadata": {
        "id": "ArwUQB6BTg9P"
      },
      "execution_count": null,
      "outputs": []
    },
    {
      "cell_type": "code",
      "source": [
        "total_cand_dep_federal = candDepFed.shape[0]"
      ],
      "metadata": {
        "id": "HXvGmxX7TmDN"
      },
      "execution_count": null,
      "outputs": []
    },
    {
      "cell_type": "code",
      "source": [
        "print(f'No pleito de 2022 nos estados de Amapá e Pará existem {total_cand_dep_federal} pessoas candidatas a Câmara de Deputados Federal, sendo {candidaturas_pa} no Pará e {total_cand_dep_federal-candidaturas_pa} no Amapá.')"
      ],
      "metadata": {
        "colab": {
          "base_uri": "https://localhost:8080/"
        },
        "id": "x7nx_EDAT5r9",
        "outputId": "e02a2783-c587-451b-fc2a-d1f7c6ebe1a7"
      },
      "execution_count": null,
      "outputs": [
        {
          "output_type": "stream",
          "name": "stdout",
          "text": [
            "No pleito de 2022 nos estados de Amapá e Pará existem 477 pessoas candidatas a Câmara de Deputados Federal, sendo 323 no Pará e 154 no Amapá.\n"
          ]
        }
      ]
    },
    {
      "cell_type": "markdown",
      "source": [
        "## Uqal a média do valor máximo de despesas de campanha?\n"
      ],
      "metadata": {
        "id": "ROUZF8ZcUA3w"
      }
    },
    {
      "cell_type": "code",
      "source": [
        "soma_despesas = candidaturas[\"VR_DESPESA_MAX_CAMPANHA\"].sum()\n",
        "round(candidaturas['VR_DESPESA_MAX_CAMPANHA'].mean(), 2)"
      ],
      "metadata": {
        "colab": {
          "base_uri": "https://localhost:8080/"
        },
        "id": "M92ineuhUYVs",
        "outputId": "4b6b7e14-0ef5-4efc-b64d-b5ec3d3b6678"
      },
      "execution_count": null,
      "outputs": [
        {
          "output_type": "execute_result",
          "data": {
            "text/plain": [
              "1968851.7"
            ]
          },
          "metadata": {},
          "execution_count": 30
        }
      ]
    }
  ]
}